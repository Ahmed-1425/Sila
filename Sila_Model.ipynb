{
  "cells": [
    {
      "cell_type": "code",
      "source": [
        "from google.colab import drive\n",
        "drive.mount('/content/drive')"
      ],
      "metadata": {
        "id": "GMYw42tHyjPN",
        "colab": {
          "base_uri": "https://localhost:8080/"
        },
        "outputId": "1eff2556-80ed-4a8d-9efe-37e43e1f39b9"
      },
      "id": "GMYw42tHyjPN",
      "execution_count": 1,
      "outputs": [
        {
          "output_type": "stream",
          "name": "stdout",
          "text": [
            "Mounted at /content/drive\n"
          ]
        }
      ]
    },
    {
      "cell_type": "code",
      "source": [
        "# فك الضغط\n",
        "\n",
        "zip_path = \"/content/drive/MyDrive/Sila Dataset/Mydata.zip\""
      ],
      "metadata": {
        "id": "O2mn4Jfo-7Yq"
      },
      "id": "O2mn4Jfo-7Yq",
      "execution_count": 2,
      "outputs": []
    },
    {
      "cell_type": "code",
      "source": [
        "\n",
        "# نفك الضغط داخل مجلد ثابت\n",
        "!unzip -q \"$zip_path\" -d /content/dataset"
      ],
      "metadata": {
        "id": "isBDdsBeHVTK"
      },
      "id": "isBDdsBeHVTK",
      "execution_count": 3,
      "outputs": []
    },
    {
      "cell_type": "code",
      "source": [
        "# نتأكد إن المجلدات موجودة\n",
        "!ls \"/content/dataset/Mydata\""
      ],
      "metadata": {
        "colab": {
          "base_uri": "https://localhost:8080/"
        },
        "id": "PzIbZqmOHd32",
        "outputId": "cc4db2ec-87eb-47c6-cf39-909887b8e840"
      },
      "id": "PzIbZqmOHd32",
      "execution_count": 4,
      "outputs": [
        {
          "output_type": "stream",
          "name": "stdout",
          "text": [
            "test  train  val\n"
          ]
        }
      ]
    },
    {
      "cell_type": "markdown",
      "id": "ccb2830a",
      "metadata": {
        "id": "ccb2830a"
      },
      "source": [
        "# ***Install and import***"
      ]
    },
    {
      "cell_type": "code",
      "execution_count": 22,
      "id": "20fa90a4",
      "metadata": {
        "id": "20fa90a4",
        "outputId": "b509cf65-2a73-4fda-fb6d-9ad906b31243",
        "colab": {
          "base_uri": "https://localhost:8080/"
        }
      },
      "outputs": [
        {
          "output_type": "stream",
          "name": "stdout",
          "text": [
            "Device: cuda\n"
          ]
        }
      ],
      "source": [
        "# لو ما هو مثبّت\n",
        "!pip -q install torch torchvision torchaudio scikit-learn\n",
        "\n",
        "import os, json, time, math, random, shutil\n",
        "from pathlib import Path\n",
        "from glob import glob\n",
        "import onnxruntime as ort\n",
        "\n",
        "\n",
        "import numpy as np\n",
        "import torch, torch.nn as nn\n",
        "import torch.nn.functional as F\n",
        "from torch.utils.data import Dataset, DataLoader\n",
        "from torchvision import transforms\n",
        "from sklearn.metrics import classification_report, confusion_matrix, accuracy_score, precision_recall_fscore_support\n",
        "import matplotlib.pyplot as plt\n",
        "from PIL import Image\n",
        "\n",
        "#عدلت لان CUDA  ما يشتغل على الماك\n",
        "\n",
        "if torch.backends.mps.is_available():\n",
        "    device = torch.device(\"mps\")    # لو ماك (Apple Silicon)\n",
        "elif torch.cuda.is_available():\n",
        "    device = torch.device(\"cuda\")   # لو ويندوز/لينكس و فيه  GPU\n",
        "else:\n",
        "    device = torch.device(\"cpu\")    # fallback\n",
        "print(\"Device:\", device)\n",
        "#تخلي الكود يشتغل بسرعة أعلى لو فيه هاردوير يدعم"
      ]
    },
    {
      "cell_type": "markdown",
      "id": "dd29333b",
      "metadata": {
        "id": "dd29333b"
      },
      "source": [
        "# ***Controls and Tracks***"
      ]
    },
    {
      "cell_type": "code",
      "execution_count": 6,
      "id": "724aec7d",
      "metadata": {
        "id": "724aec7d",
        "outputId": "98a36030-74ed-4ee0-b722-c7308b533f84",
        "colab": {
          "base_uri": "https://localhost:8080/"
        }
      },
      "outputs": [
        {
          "output_type": "stream",
          "name": "stdout",
          "text": [
            "Classes: 32 ['ain', 'al', 'aleff', 'bb', 'dal', 'dha', 'dhad', 'fa', 'gaaf', 'ghain'] ...\n"
          ]
        }
      ],
      "source": [
        "# استخدم ناتج التقسيم/التوازن اللي سويته قبل شوي\n",
        "SPLIT_SRC = Path(\"/content/dataset/Mydata\")\n",
        "\n",
        "IMG_SIZE   = 64\n",
        "BATCH_SIZE = 128\n",
        "EPOCHS     = 20\n",
        "LR         = 1e-3\n",
        "SEED       = 42\n",
        "\n",
        "torch.manual_seed(SEED); np.random.seed(SEED); random.seed(SEED)\n",
        "\n",
        "# نحدد الكلاسات من مجلد train تلقائيًا\n",
        "classes = sorted([d.name for d in (SPLIT_SRC/\"train\").iterdir() if d.is_dir()])\n",
        "num_classes = len(classes)      #يحسب عددها ويعمل قاموسين\n",
        "class_to_idx = {c:i for i,c in enumerate(classes)}\n",
        "idx_to_class = {i:c for c,i in class_to_idx.items()}\n",
        "print(\"Classes:\", len(classes), classes[:10], \"...\")\n"
      ]
    },
    {
      "cell_type": "markdown",
      "id": "56e70724",
      "metadata": {
        "id": "56e70724"
      },
      "source": [
        "# ***Simple data-loader for 64x64 grayscale images***"
      ]
    },
    {
      "cell_type": "code",
      "execution_count": 7,
      "id": "88058379",
      "metadata": {
        "id": "88058379",
        "outputId": "964d19f6-a8f1-4f6a-b4d1-1f8f88614140",
        "colab": {
          "base_uri": "https://localhost:8080/"
        }
      },
      "outputs": [
        {
          "output_type": "stream",
          "name": "stdout",
          "text": [
            "sizes: 48038 4842 4842\n"
          ]
        }
      ],
      "source": [
        "from PIL import Image\n",
        "\n",
        "# يخزن قائمة الملفات مع لابلها، ومعرفة هل تطبق Augmentation ولا لا\n",
        "class GrayFolderDataset(Dataset):\n",
        "    def __init__(self, root: Path, class_to_idx: dict, aug=False):\n",
        "        self.items = []\n",
        "        self.class_to_idx = class_to_idx\n",
        "        self.aug = aug\n",
        "\n",
        "        # اجمع كل الصور تحت root/<class>/*.png\n",
        "        for c in sorted(root.iterdir(), key=lambda p: p.name):\n",
        "            if not c.is_dir():\n",
        "                continue\n",
        "            label = class_to_idx[c.name]\n",
        "            for p in c.iterdir():\n",
        "                if p.suffix.lower() in {\".png\",\".jpg\",\".jpeg\",\".bmp\"}:\n",
        "                    self.items.append((p, label))\n",
        "\n",
        "\n",
        "\n",
        "        # تحويلات: رمادي → Tensor → Normalize\n",
        "        base = [\n",
        "            transforms.Grayscale(num_output_channels=1),\n",
        "            transforms.Resize((IMG_SIZE, IMG_SIZE)),\n",
        "            transforms.ToTensor(),\n",
        "            transforms.Normalize(mean=[0.5], std=[0.5]),\n",
        "        ]\n",
        "\n",
        "        # Augment بسيط للـtrain فقط (خفيف)\n",
        "        # يقلل  overfitting\n",
        "        if aug:\n",
        "            augs = [\n",
        "                transforms.RandomAffine(degrees=5, translate=(0.03,0.03)),\n",
        "            ]\n",
        "            self.tf = transforms.Compose(augs + base)\n",
        "        else:\n",
        "            self.tf = transforms.Compose(base)\n",
        "\n",
        "    def __len__(self):\n",
        "        return len(self.items)\n",
        "\n",
        "    def __getitem__(self, idx):\n",
        "        path, label = self.items[idx]\n",
        "        img = Image.open(path).convert(\"L\")  # تأكيد رمادي\n",
        "        img = self.tf(img)\n",
        "        return img, label\n",
        "\n",
        "train_ds = GrayFolderDataset(SPLIT_SRC/\"train\", class_to_idx, aug=True)\n",
        "val_ds   = GrayFolderDataset(SPLIT_SRC/\"val\",   class_to_idx, aug=False)\n",
        "test_ds  = GrayFolderDataset(SPLIT_SRC/\"test\",  class_to_idx, aug=False)\n",
        "\n",
        "train_dl = DataLoader(train_ds, batch_size=BATCH_SIZE, shuffle=True, num_workers=2, pin_memory=True)\n",
        "val_dl   = DataLoader(val_ds,   batch_size=BATCH_SIZE, shuffle=False, num_workers=2, pin_memory=True)\n",
        "test_dl  = DataLoader(test_ds,  batch_size=BATCH_SIZE, shuffle=False, num_workers=2, pin_memory=True)\n",
        "\n",
        "print(\"sizes:\", len(train_ds), len(val_ds), len(test_ds))  #يطبع أعداد العينات في كل مجموعة"
      ]
    },
    {
      "cell_type": "code",
      "source": [
        "!ls \"/content/drive/MyDrive\"\n",
        "!ls \"/content/drive/MyDrive/Sila Dataset\"\n",
        "!ls \"/content/drive/MyDrive/Sila Dataset/models\""
      ],
      "metadata": {
        "colab": {
          "base_uri": "https://localhost:8080/"
        },
        "id": "ZRIqyQoH_P4F",
        "outputId": "97b7b74b-6544-4811-d9ec-62ea5ece368f"
      },
      "id": "ZRIqyQoH_P4F",
      "execution_count": 9,
      "outputs": [
        {
          "output_type": "stream",
          "name": "stdout",
          "text": [
            "'Amirah Aldajani'\t   'Amirah (Responses).gsheet'\t    'Sila Dataset'\n",
            "'Amirah aldajani (1).pdf'  'Colab Notebooks'\t\t    'أميرة الدعجاني'\n",
            "'Amirah aldajani.pdf'\t   'E-commerce Management system '   تقديمي.gsheet\n",
            " Amirah.gform\t\t    Sila\n",
            "'AL (39).png'\t  'FA (6).png'\t    'KAAF (259).png'  'SAAD (746).png'\n",
            "'Aleff (60).png'  'GHAIN (77).png'  'MEEM (206).png'  'THAL (823).png'\n",
            " dha.jpg\t  'JEEM (213).png'   Mydata.zip        Zay.jpg\n",
            "ls: cannot access '/content/drive/MyDrive/Sila Dataset/models': No such file or directory\n"
          ]
        }
      ]
    },
    {
      "cell_type": "markdown",
      "id": "62275156",
      "metadata": {
        "id": "62275156"
      },
      "source": [
        "# ***Light weight, accurate model for 64x64 grayscale photos***"
      ]
    },
    {
      "cell_type": "code",
      "execution_count": 16,
      "id": "26159f52",
      "metadata": {
        "id": "26159f52",
        "outputId": "083114cd-5bf1-4693-9ba2-5c9481fdaf34",
        "colab": {
          "base_uri": "https://localhost:8080/"
        }
      },
      "outputs": [
        {
          "output_type": "stream",
          "name": "stdout",
          "text": [
            "Model params (M): 8.942\n"
          ]
        }
      ],
      "source": [
        "class SmallCNN(nn.Module):\n",
        "    def __init__(self, num_classes=32):\n",
        "        super().__init__()\n",
        "        # in: 1×64×64\n",
        "        self.features = nn.Sequential(\n",
        "            nn.Conv2d(1, 32, 3, padding=1), nn.BatchNorm2d(32), nn.ReLU(),     #الطبقة  الاولى\n",
        "            nn.Conv2d(32,64, 3, padding=1), nn.BatchNorm2d(64), nn.ReLU(),\n",
        "            nn.MaxPool2d(2),  # 64→32\n",
        "\n",
        "            nn.Conv2d(64,128,3, padding=1), nn.BatchNorm2d(128), nn.ReLU(),   # الطبقة الثانية\n",
        "            nn.Conv2d(128,128,3, padding=1), nn.BatchNorm2d(128), nn.ReLU(),\n",
        "            nn.MaxPool2d(2),  # 32→16\n",
        "\n",
        "            nn.Conv2d(128,256,3, padding=1), nn.BatchNorm2d(256), nn.ReLU(),  # الطبقة الثالث\n",
        "            nn.MaxPool2d(2),  # 16→8\n",
        "        )\n",
        "        self.head = nn.Sequential(\n",
        "            nn.Flatten(),\n",
        "            nn.Linear(256*8*8, 512), nn.ReLU(), nn.Dropout(0.3),\n",
        "            nn.Linear(512, num_classes),\n",
        "        )\n",
        "\n",
        "    def forward(self, x):\n",
        "        x = self.features(x)\n",
        "        x = self.head(x)\n",
        "        return x\n",
        "\n",
        "model = SmallCNN(num_classes=num_classes).to(device)  #ننشئ المودل وننقله للجهاز\n",
        "optimizer = torch.optim.AdamW(model.parameters(), lr=LR) # يحدّث أوزان المودل. lr يحدد الخطوة\n",
        "scheduler = torch.optim.lr_scheduler.CosineAnnealingLR(optimizer, T_max=EPOCHS)\n",
        "criterion = nn.CrossEntropyLoss()\n",
        "sum(p.numel() for p in model.parameters())/1e6\n",
        "\n",
        "print(\"Model params (M):\", round(sum(p.numel() for p in model.parameters())/1e6, 3))"
      ]
    },
    {
      "cell_type": "markdown",
      "id": "28a11547",
      "metadata": {
        "id": "28a11547"
      },
      "source": [
        "# ***Training with optimal weight retention and simple Early Stop***"
      ]
    },
    {
      "cell_type": "code",
      "execution_count": 17,
      "id": "c31cbfb4",
      "metadata": {
        "id": "c31cbfb4",
        "outputId": "aace0b3b-eac6-4594-b0a7-b1abf48551cf",
        "colab": {
          "base_uri": "https://localhost:8080/"
        }
      },
      "outputs": [
        {
          "output_type": "stream",
          "name": "stderr",
          "text": [
            "/tmp/ipython-input-2941073268.py:7: UserWarning: To copy construct from a tensor, it is recommended to use sourceTensor.detach().clone() or sourceTensor.detach().clone().requires_grad_(True), rather than torch.tensor(sourceTensor).\n",
            "  xb, yb = xb.to(device, non_blocking=True), torch.tensor(yb).to(device)\n"
          ]
        },
        {
          "output_type": "stream",
          "name": "stdout",
          "text": [
            "Epoch 01/20 | train loss 3.1229 acc 0.1047 | val loss 2.5607 acc 0.2449\n",
            "  saved: models/best_sila_cnn.pt\n",
            "Epoch 02/20 | train loss 1.9535 acc 0.3430 | val loss 1.0848 acc 0.6675\n",
            "  saved: models/best_sila_cnn.pt\n",
            "Epoch 03/20 | train loss 1.5632 acc 0.4515 | val loss 0.8409 acc 0.7237\n",
            "  saved: models/best_sila_cnn.pt\n",
            "Epoch 04/20 | train loss 1.3693 acc 0.5152 | val loss 0.6308 acc 0.8067\n",
            "  saved: models/best_sila_cnn.pt\n",
            "Epoch 05/20 | train loss 1.2307 acc 0.5625 | val loss 0.4743 acc 0.8715\n",
            "  saved: models/best_sila_cnn.pt\n",
            "Epoch 06/20 | train loss 1.1346 acc 0.5960 | val loss 0.4305 acc 0.9000\n",
            "  saved: models/best_sila_cnn.pt\n",
            "Epoch 07/20 | train loss 1.0515 acc 0.6238 | val loss 0.3315 acc 0.9174\n",
            "  saved: models/best_sila_cnn.pt\n",
            "Epoch 08/20 | train loss 0.9992 acc 0.6423 | val loss 0.3267 acc 0.9362\n",
            "  saved: models/best_sila_cnn.pt\n",
            "Epoch 09/20 | train loss 0.9393 acc 0.6655 | val loss 0.2721 acc 0.9424\n",
            "  saved: models/best_sila_cnn.pt\n",
            "Epoch 10/20 | train loss 0.9002 acc 0.6786 | val loss 0.2440 acc 0.9492\n",
            "  saved: models/best_sila_cnn.pt\n",
            "Epoch 11/20 | train loss 0.8568 acc 0.6952 | val loss 0.2480 acc 0.9537\n",
            "  saved: models/best_sila_cnn.pt\n",
            "Epoch 12/20 | train loss 0.8178 acc 0.7079 | val loss 0.1981 acc 0.9641\n",
            "  saved: models/best_sila_cnn.pt\n",
            "Epoch 13/20 | train loss 0.7904 acc 0.7185 | val loss 0.1867 acc 0.9659\n",
            "  saved: models/best_sila_cnn.pt\n",
            "Epoch 14/20 | train loss 0.7710 acc 0.7219 | val loss 0.1707 acc 0.9692\n",
            "  saved: models/best_sila_cnn.pt\n",
            "Epoch 15/20 | train loss 0.7464 acc 0.7312 | val loss 0.1555 acc 0.9719\n",
            "  saved: models/best_sila_cnn.pt\n",
            "Epoch 16/20 | train loss 0.7316 acc 0.7344 | val loss 0.1598 acc 0.9725\n",
            "  saved: models/best_sila_cnn.pt\n",
            "Epoch 17/20 | train loss 0.7185 acc 0.7419 | val loss 0.1491 acc 0.9754\n",
            "  saved: models/best_sila_cnn.pt\n",
            "Epoch 18/20 | train loss 0.7093 acc 0.7477 | val loss 0.1424 acc 0.9760\n",
            "  saved: models/best_sila_cnn.pt\n",
            "Epoch 19/20 | train loss 0.7114 acc 0.7435 | val loss 0.1410 acc 0.9758\n",
            "Epoch 20/20 | train loss 0.7095 acc 0.7451 | val loss 0.1403 acc 0.9771\n",
            "  saved: models/best_sila_cnn.pt\n",
            "Best val acc: 0.9770755885997522\n"
          ]
        }
      ],
      "source": [
        "from collections import deque\n",
        "\n",
        "def run_epoch(dl, train=True):\n",
        "    model.train(train)\n",
        "    total, correct, loss_sum = 0, 0, 0.0\n",
        "    for xb, yb in dl:\n",
        "        xb, yb = xb.to(device, non_blocking=True), torch.tensor(yb).to(device)\n",
        "        with torch.set_grad_enabled(train):\n",
        "            logits = model(xb)\n",
        "            loss = criterion(logits, yb)\n",
        "        if train:\n",
        "            optimizer.zero_grad(set_to_none=True)\n",
        "            loss.backward()\n",
        "            optimizer.step()\n",
        "        preds = logits.argmax(dim=1)\n",
        "        correct += (preds == yb).sum().item()\n",
        "        total += yb.size(0)\n",
        "        loss_sum += loss.item() * yb.size(0)\n",
        "    return loss_sum/total, correct/total\n",
        "\n",
        "best_val_acc = 0.0\n",
        "patience, bad = 4, 0\n",
        "best_path = Path(\"./models/best_sila_cnn.pt\")\n",
        "best_path.parent.mkdir(parents=True, exist_ok=True)\n",
        "\n",
        "for epoch in range(1, EPOCHS+1):\n",
        "    tr_loss, tr_acc = run_epoch(train_dl, train=True)\n",
        "    va_loss, va_acc = run_epoch(val_dl,   train=False)\n",
        "    scheduler.step()\n",
        "\n",
        "    print(f\"Epoch {epoch:02d}/{EPOCHS} | train loss {tr_loss:.4f} acc {tr_acc:.4f} | val loss {va_loss:.4f} acc {va_acc:.4f}\")\n",
        "\n",
        "    if va_acc > best_val_acc:\n",
        "        best_val_acc = va_acc\n",
        "        bad = 0\n",
        "        torch.save({\"model\": model.state_dict(),\n",
        "                    \"classes\": classes,\n",
        "                    \"img_size\": IMG_SIZE}, best_path)\n",
        "        print(\"  saved:\", best_path)\n",
        "    else:\n",
        "        bad += 1\n",
        "        if bad >= patience:\n",
        "            print(\"Early stop\")\n",
        "            break\n",
        "\n",
        "print(\"Best val acc:\", best_val_acc)\n"
      ]
    },
    {
      "cell_type": "markdown",
      "id": "83eaf297",
      "metadata": {
        "id": "83eaf297"
      },
      "source": [
        "# ***Test evaluation and reports***"
      ]
    },
    {
      "cell_type": "code",
      "execution_count": 18,
      "id": "947630bf",
      "metadata": {
        "id": "947630bf",
        "colab": {
          "base_uri": "https://localhost:8080/",
          "height": 1000
        },
        "outputId": "4aaef8e1-2f25-4674-8e65-7cde82ac8e0e"
      },
      "outputs": [
        {
          "output_type": "stream",
          "name": "stdout",
          "text": [
            "=== Final (TEST) Metrics ===\n",
            "Accuracy : 0.9744\n",
            "Precision: 0.9744  (macro)\n",
            "Recall   : 0.9744  (macro)\n",
            "F1-Score : 0.9743  (macro)\n",
            "\n",
            "[Optional] Weighted Averages\n",
            "Precision_w: 0.9746 | Recall_w: 0.9744 | F1_w: 0.9744\n",
            "\n",
            "Per-class report:\n",
            "              precision    recall  f1-score   support\n",
            "\n",
            "         ain     0.9896    0.9896    0.9896       193\n",
            "          al     0.9926    1.0000    0.9963       134\n",
            "       aleff     0.9730    0.9730    0.9730       148\n",
            "          bb     0.9938    0.9938    0.9938       161\n",
            "         dal     0.9530    0.9793    0.9660       145\n",
            "         dha     0.9675    0.9613    0.9644       155\n",
            "        dhad     1.0000    0.9732    0.9864       149\n",
            "          fa     0.9492    0.9545    0.9518       176\n",
            "        gaaf     0.9527    0.9338    0.9431       151\n",
            "       ghain     0.9778    0.9832    0.9805       179\n",
            "          ha     0.9720    0.9789    0.9754       142\n",
            "         haa     0.9416    0.9627    0.9520       134\n",
            "        jeem     0.9362    0.9706    0.9531       136\n",
            "        kaaf     0.9934    0.9497    0.9711       159\n",
            "        khaa     0.9926    0.9574    0.9747       141\n",
            "          la     0.9810    0.9936    0.9873       156\n",
            "        laam     0.9938    0.9758    0.9847       165\n",
            "        meem     0.9937    1.0000    0.9968       157\n",
            "         nun     0.9756    0.9697    0.9726       165\n",
            "          ra     0.9655    0.9524    0.9589       147\n",
            "        saad     0.9591    0.9647    0.9619       170\n",
            "        seen     0.9861    0.9793    0.9827       145\n",
            "       sheen     0.9848    0.9924    0.9886       131\n",
            "          ta     0.9464    0.9695    0.9578       164\n",
            "         taa     0.9880    0.9939    0.9909       165\n",
            "        thaa     0.9571    0.9873    0.9720       158\n",
            "        thal     0.9701    0.9353    0.9524       139\n",
            "        toot     0.9747    0.9625    0.9686       160\n",
            "         waw     0.9831    0.9748    0.9789       119\n",
            "          ya     1.0000    0.9868    0.9933       151\n",
            "         yaa     1.0000    1.0000    1.0000       129\n",
            "         zay     0.9355    0.9831    0.9587       118\n",
            "\n",
            "    accuracy                         0.9744      4842\n",
            "   macro avg     0.9744    0.9744    0.9743      4842\n",
            "weighted avg     0.9746    0.9744    0.9744      4842\n",
            "\n"
          ]
        },
        {
          "output_type": "display_data",
          "data": {
            "text/plain": [
              "<Figure size 1000x1000 with 2 Axes>"
            ],
            "image/png": "[encoded data removed]"
          },
          "metadata": {}
        }
      ],
      "source": [
        "# [6] Evaluation — Accuracy / Precision / Recall / F1 + تقرير ومصفوفة التشتّت\n",
        "\n",
        "from sklearn.metrics import (\n",
        "    accuracy_score,\n",
        "    precision_recall_fscore_support,\n",
        "    classification_report,\n",
        "    confusion_matrix\n",
        ")\n",
        "\n",
        "# حمّل أفضل وزن تم حفظه أثناء التدريب\n",
        "ckpt = torch.load(best_path, map_location=device)\n",
        "model.load_state_dict(ckpt[\"model\"])\n",
        "model.eval()\n",
        "\n",
        "# مرّر على test_dl واجمع التنبؤات والملصقات الحقيقية\n",
        "all_preds, all_targets = [], []\n",
        "with torch.no_grad():\n",
        "    for xb, yb in test_dl:\n",
        "        xb = xb.to(device, non_blocking=True)\n",
        "        logits = model(xb)\n",
        "        preds = logits.argmax(1).cpu().numpy().tolist()   # أخذ أعلى احتمال\n",
        "        all_preds.extend(preds)\n",
        "        all_targets.extend(yb.numpy().tolist())\n",
        "\n",
        "# --- المقاييس النهائية المطلوبة (Macro) ---\n",
        "acc = accuracy_score(all_targets, all_preds)\n",
        "prec_macro, rec_macro, f1_macro, _ = precision_recall_fscore_support(\n",
        "    all_targets, all_preds, average=\"macro\", zero_division=0\n",
        ")\n",
        "\n",
        "print(\"=== Final (TEST) Metrics ===\")\n",
        "print(f\"Accuracy : {acc:.4f}\")\n",
        "print(f\"Precision: {prec_macro:.4f}  (macro)\")\n",
        "print(f\"Recall   : {rec_macro:.4f}  (macro)\")\n",
        "print(f\"F1-Score : {f1_macro:.4f}  (macro)\")\n",
        "\n",
        "# (اختياري) لو تبي نسخة weighted أيضًا:\n",
        "prec_w, rec_w, f1_w, _ = precision_recall_fscore_support(\n",
        "    all_targets, all_preds, average=\"weighted\", zero_division=0\n",
        ")\n",
        "print(\"\\n[Optional] Weighted Averages\")\n",
        "print(f\"Precision_w: {prec_w:.4f} | Recall_w: {rec_w:.4f} | F1_w: {f1_w:.4f}\")\n",
        "\n",
        "# تقرير تفصيلي لكل كلاس\n",
        "print(\"\\nPer-class report:\")\n",
        "print(classification_report(all_targets, all_preds, target_names=classes, digits=4, zero_division=0))\n",
        "\n",
        "# مصفوفة التشتّت (Confusion Matrix)\n",
        "cm = confusion_matrix(all_targets, all_preds)\n",
        "plt.figure(figsize=(10,10))\n",
        "plt.imshow(cm, interpolation=\"nearest\")\n",
        "plt.title(\"Confusion Matrix\")\n",
        "plt.colorbar()\n",
        "plt.xticks(range(num_classes), classes, rotation=90)\n",
        "plt.yticks(range(num_classes), classes)\n",
        "plt.tight_layout()\n",
        "plt.show()"
      ]
    },
    {
      "cell_type": "code",
      "source": [
        "!pip install onnx onnxruntime"
      ],
      "metadata": {
        "colab": {
          "base_uri": "https://localhost:8080/"
        },
        "id": "-frCoUIAGNIO",
        "outputId": "c523526e-ac4d-4aed-844a-7b9fc6dc52ac"
      },
      "id": "-frCoUIAGNIO",
      "execution_count": 21,
      "outputs": [
        {
          "output_type": "stream",
          "name": "stdout",
          "text": [
            "Collecting onnx\n",
            "  Downloading onnx-1.19.0-cp312-cp312-manylinux2014_x86_64.manylinux_2_17_x86_64.whl.metadata (7.0 kB)\n",
            "Collecting onnxruntime\n",
            "  Downloading onnxruntime-1.22.1-cp312-cp312-manylinux_2_27_x86_64.manylinux_2_28_x86_64.whl.metadata (4.9 kB)\n",
            "Requirement already satisfied: numpy>=1.22 in /usr/local/lib/python3.12/dist-packages (from onnx) (2.0.2)\n",
            "Requirement already satisfied: protobuf>=4.25.1 in /usr/local/lib/python3.12/dist-packages (from onnx) (5.29.5)\n",
            "Requirement already satisfied: typing_extensions>=4.7.1 in /usr/local/lib/python3.12/dist-packages (from onnx) (4.15.0)\n",
            "Requirement already satisfied: ml_dtypes in /usr/local/lib/python3.12/dist-packages (from onnx) (0.5.3)\n",
            "Collecting coloredlogs (from onnxruntime)\n",
            "  Downloading coloredlogs-15.0.1-py2.py3-none-any.whl.metadata (12 kB)\n",
            "Requirement already satisfied: flatbuffers in /usr/local/lib/python3.12/dist-packages (from onnxruntime) (25.2.10)\n",
            "Requirement already satisfied: packaging in /usr/local/lib/python3.12/dist-packages (from onnxruntime) (25.0)\n",
            "Requirement already satisfied: sympy in /usr/local/lib/python3.12/dist-packages (from onnxruntime) (1.13.3)\n",
            "Collecting humanfriendly>=9.1 (from coloredlogs->onnxruntime)\n",
            "  Downloading humanfriendly-10.0-py2.py3-none-any.whl.metadata (9.2 kB)\n",
            "Requirement already satisfied: mpmath<1.4,>=1.1.0 in /usr/local/lib/python3.12/dist-packages (from sympy->onnxruntime) (1.3.0)\n",
            "Downloading onnx-1.19.0-cp312-cp312-manylinux2014_x86_64.manylinux_2_17_x86_64.whl (18.2 MB)\n",
            "\u001b[2K   \u001b[90m━━━━━━━━━━━━━━━━━━━━━━━━━━━━━━━━━━━━━━━━\u001b[0m \u001b[32m18.2/18.2 MB\u001b[0m \u001b[31m90.3 MB/s\u001b[0m eta \u001b[36m0:00:00\u001b[0m\n",
            "\u001b[?25hDownloading onnxruntime-1.22.1-cp312-cp312-manylinux_2_27_x86_64.manylinux_2_28_x86_64.whl (16.5 MB)\n",
            "\u001b[2K   \u001b[90m━━━━━━━━━━━━━━━━━━━━━━━━━━━━━━━━━━━━━━━━\u001b[0m \u001b[32m16.5/16.5 MB\u001b[0m \u001b[31m96.0 MB/s\u001b[0m eta \u001b[36m0:00:00\u001b[0m\n",
            "\u001b[?25hDownloading coloredlogs-15.0.1-py2.py3-none-any.whl (46 kB)\n",
            "\u001b[2K   \u001b[90m━━━━━━━━━━━━━━━━━━━━━━━━━━━━━━━━━━━━━━━━\u001b[0m \u001b[32m46.0/46.0 kB\u001b[0m \u001b[31m4.3 MB/s\u001b[0m eta \u001b[36m0:00:00\u001b[0m\n",
            "\u001b[?25hDownloading humanfriendly-10.0-py2.py3-none-any.whl (86 kB)\n",
            "\u001b[2K   \u001b[90m━━━━━━━━━━━━━━━━━━━━━━━━━━━━━━━━━━━━━━━━\u001b[0m \u001b[32m86.8/86.8 kB\u001b[0m \u001b[31m8.7 MB/s\u001b[0m eta \u001b[36m0:00:00\u001b[0m\n",
            "\u001b[?25hInstalling collected packages: humanfriendly, onnx, coloredlogs, onnxruntime\n",
            "Successfully installed coloredlogs-15.0.1 humanfriendly-10.0 onnx-1.19.0 onnxruntime-1.22.1\n"
          ]
        }
      ]
    },
    {
      "cell_type": "code",
      "source": [
        "import torch\n",
        "\n",
        "# أعد البناء والتحميل (من نفس الحفظ)\n",
        "ckpt = torch.load(best_path, map_location=\"cpu\")\n",
        "classes = ckpt[\"classes\"]\n",
        "\n",
        "export_model = SmallCNN(num_classes=len(classes))\n",
        "export_model.load_state_dict(ckpt[\"model\"])\n",
        "export_model.eval()\n",
        "\n",
        "dummy = torch.randn(1, 1, 64, 64)  # نفس شكل الإدخال\n",
        "\n",
        "onnx_path = \"/content/model.onnx\"\n",
        "torch.onnx.export(\n",
        "    export_model, dummy, onnx_path,\n",
        "    input_names=[\"input\"], output_names=[\"output\"],\n",
        "    dynamic_axes={\"input\": {0: \"batch\"}, \"output\": {0: \"batch\"}},\n",
        "    opset_version=13\n",
        ")\n",
        "print(\"Exported ONNX:\", onnx_path)\n",
        "\n",
        "# تنزيل على جهازك\n",
        "from google.colab import files\n",
        "files.download(onnx_path)"
      ],
      "metadata": {
        "colab": {
          "base_uri": "https://localhost:8080/",
          "height": 91
        },
        "id": "BIBL7tzhCvXf",
        "outputId": "694eb9b8-3b14-4581-d854-3dee2784db50"
      },
      "id": "BIBL7tzhCvXf",
      "execution_count": 23,
      "outputs": [
        {
          "output_type": "stream",
          "name": "stderr",
          "text": [
            "/tmp/ipython-input-2476787506.py:14: DeprecationWarning: You are using the legacy TorchScript-based ONNX export. Starting in PyTorch 2.9, the new torch.export-based ONNX exporter will be the default. To switch now, set dynamo=True in torch.onnx.export. This new exporter supports features like exporting LLMs with DynamicCache. We encourage you to try it and share feedback to help improve the experience. Learn more about the new export logic: https://pytorch.org/docs/stable/onnx_dynamo.html. For exporting control flow: https://pytorch.org/tutorials/beginner/onnx/export_control_flow_model_to_onnx_tutorial.html.\n",
            "  torch.onnx.export(\n"
          ]
        },
        {
          "output_type": "stream",
          "name": "stdout",
          "text": [
            "Exported ONNX: /content/model.onnx\n"
          ]
        },
        {
          "output_type": "display_data",
          "data": {
            "text/plain": [
              "<IPython.core.display.Javascript object>"
            ],
            "application/javascript": [
              "\n",
              "    async function download(id, filename, size) {\n",
              "      if (!google.colab.kernel.accessAllowed) {\n",
              "        return;\n",
              "      }\n",
              "      const div = document.createElement('div');\n",
              "      const label = document.createElement('label');\n",
              "      label.textContent = `Downloading \"${filename}\": `;\n",
              "      div.appendChild(label);\n",
              "      const progress = document.createElement('progress');\n",
              "      progress.max = size;\n",
              "      div.appendChild(progress);\n",
              "      document.body.appendChild(div);\n",
              "\n",
              "      const buffers = [];\n",
              "      let downloaded = 0;\n",
              "\n",
              "      const channel = await google.colab.kernel.comms.open(id);\n",
              "      // Send a message to notify the kernel that we're ready.\n",
              "      channel.send({})\n",
              "\n",
              "      for await (const message of channel.messages) {\n",
              "        // Send a message to notify the kernel that we're ready.\n",
              "        channel.send({})\n",
              "        if (message.buffers) {\n",
              "          for (const buffer of message.buffers) {\n",
              "            buffers.push(buffer);\n",
              "            downloaded += buffer.byteLength;\n",
              "            progress.value = downloaded;\n",
              "          }\n",
              "        }\n",
              "      }\n",
              "      const blob = new Blob(buffers, {type: 'application/binary'});\n",
              "      const a = document.createElement('a');\n",
              "      a.href = window.URL.createObjectURL(blob);\n",
              "      a.download = filename;\n",
              "      div.appendChild(a);\n",
              "      a.click();\n",
              "      div.remove();\n",
              "    }\n",
              "  "
            ]
          },
          "metadata": {}
        },
        {
          "output_type": "display_data",
          "data": {
            "text/plain": [
              "<IPython.core.display.Javascript object>"
            ],
            "application/javascript": [
              "download(\"download_0217213e-0da3-453e-a492-20e8349da803\", \"model.onnx\", 35767192)"
            ]
          },
          "metadata": {}
        }
      ]
    },
    {
      "cell_type": "markdown",
      "id": "537fcd2a",
      "metadata": {
        "id": "537fcd2a"
      },
      "source": [
        "# ***Inference & Testing***\n",
        "### هنا يطوال الاعمار ندرج صورة للمودل ونشوف نسبة الثقه انه يتعرف او لا او انه مودل يهبد لنا"
      ]
    },
    {
      "cell_type": "code",
      "execution_count": null,
      "id": "8e9d9ac6",
      "metadata": {
        "id": "8e9d9ac6"
      },
      "outputs": [],
      "source": [
        "from PIL import Image\n",
        "\n",
        "# دالة تتوقع على صورة واحدة\n",
        "def predict_image(path: Path):\n",
        "    # نفس التحويلات اللي استخدمناها وقت التدريب\n",
        "    tf = transforms.Compose([\n",
        "        transforms.Grayscale(num_output_channels=1),\n",
        "        transforms.Resize((IMG_SIZE, IMG_SIZE)),\n",
        "        transforms.ToTensor(),\n",
        "        transforms.Normalize([0.5],[0.5])\n",
        "    ])\n",
        "\n",
        "    # اقرأ الصورة وحولها\n",
        "    img = Image.open(path).convert(\"L\")\n",
        "    x = tf(img).unsqueeze(0).to(device)  # أضف بعد batch\n",
        "\n",
        "    model.eval()\n",
        "    with torch.no_grad():\n",
        "        logits = model(x)\n",
        "        pred_idx = logits.argmax(1).item()\n",
        "        prob = torch.softmax(logits, dim=1)[0, pred_idx].item()\n",
        "\n",
        "    return idx_to_class[pred_idx], prob\n",
        "\n",
        "# مثال: جرّب صورة من test set\n",
        "sample_path = Path(\"/content/drive/MyDrive/Sila Dataset/SAAD (746).png\")\n",
        "\n",
        "pred_label, confidence = predict_image(sample_path)\n",
        "print(\"Prediction:\", pred_label, \"| Confidence:\", f\"{confidence*100:.2f}%\")\n"
      ]
    }
  ],
  "metadata": {
    "kernelspec": {
      "display_name": "Python 3",
      "name": "python3"
    },
    "language_info": {
      "codemirror_mode": {
        "name": "ipython",
        "version": 3
      },
      "file_extension": ".py",
      "mimetype": "text/x-python",
      "name": "python",
      "nbconvert_exporter": "python",
      "pygments_lexer": "ipython3",
      "version": "3.11.8"
    },
    "colab": {
      "provenance": [],
      "gpuType": "T4"
    },
    "accelerator": "GPU"
  },
  "nbformat": 4,
  "nbformat_minor": 5
}